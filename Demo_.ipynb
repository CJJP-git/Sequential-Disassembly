{
 "cells": [
  {
   "cell_type": "code",
   "execution_count": 1,
   "id": "bbc1b93b",
   "metadata": {},
   "outputs": [],
   "source": [
    "# Import packages\n",
    "\n",
    "import numpy as np\n",
    "import ufl\n",
    "\n",
    "from mpi4py import MPI\n",
    "from dolfinx.io import gmshio\n",
    "import gmsh\n",
    "from dolfinx import fem, io, nls\n",
    "from dolfinx import plot\n",
    "import dolfinx.fem.petsc\n",
    "import dolfinx.nls.petsc\n",
    "from dolfinx.mesh import create_box, CellType, create_rectangle, locate_entities,meshtags\n",
    "import pyvista\n",
    "from ufl import (\n",
    "    as_matrix,\n",
    "    as_vector,\n",
    "    dx,\n",
    "    dot,\n",
    "    cos,\n",
    "    sin,\n",
    "    SpatialCoordinate,\n",
    "    Identity,\n",
    "    grad,\n",
    "    ln,\n",
    "    tr,\n",
    "    det,\n",
    "    variable,\n",
    "    derivative,\n",
    "    TestFunction,\n",
    "    TrialFunction,\n",
    "    inner,\n",
    "    cross,\n",
    "    inv,\n",
    "    outer,\n",
    ")\n",
    "from petsc4py import PETSc"
   ]
  },
  {
   "cell_type": "code",
   "execution_count": 2,
   "id": "b126c05f",
   "metadata": {},
   "outputs": [
    {
     "name": "stdout",
     "output_type": "stream",
     "text": [
      "Info    : Meshing 1D...\n",
      "Info    : [  0%] Meshing curve 1 (Line)\n",
      "Info    : [ 20%] Meshing curve 2 (Line)\n",
      "Info    : [ 30%] Meshing curve 3 (Line)\n",
      "Info    : [ 40%] Meshing curve 4 (Line)\n",
      "Info    : [ 60%] Meshing curve 5 (Line)\n",
      "Info    : [ 70%] Meshing curve 6 (Line)\n",
      "Info    : [ 80%] Meshing curve 7 (Line)\n",
      "Info    : [ 90%] Meshing curve 8 (Line)\n",
      "Info    : Done meshing 1D (Wall 0.0002755s, CPU 0.000437s)\n",
      "Info    : Meshing 2D...\n",
      "Info    : Meshing surface 1 (Plane, Frontal-Delaunay)\n",
      "Info    : Done meshing 2D (Wall 0.00828833s, CPU 0.008205s)\n",
      "Info    : 769 nodes 1546 elements\n",
      "Mesh: mesh with 1314 element in 2D\n"
     ]
    },
    {
     "name": "stderr",
     "output_type": "stream",
     "text": [
      "Warning : Unknown entity of dimension 2 and tag 1 in physical group 1\n"
     ]
    }
   ],
   "source": [
    "# Define the mesh\n",
    "gmsh.initialize()\n",
    "gmsh.model.add(\"beams\")\n",
    "\n",
    "p1 = gmsh.model.geo.addPoint(0, 0, 0)\n",
    "p2 = gmsh.model.geo.addPoint(30, 0, 0)\n",
    "p3 = gmsh.model.geo.addPoint(30, 5, 0)\n",
    "p4 = gmsh.model.geo.addPoint(0, 5, 0)\n",
    "\n",
    "p5 = gmsh.model.geo.addPoint(5, 2, 0)\n",
    "p6 = gmsh.model.geo.addPoint(5, 3, 0)\n",
    "p7 = gmsh.model.geo.addPoint(25, 3, 0)\n",
    "p8 = gmsh.model.geo.addPoint(25, 2, 0)\n",
    "\n",
    "\n",
    "\n",
    "l1 = gmsh.model.geo.addLine(p1, p2)\n",
    "l2 = gmsh.model.geo.addLine(p2, p3)\n",
    "l3 = gmsh.model.geo.addLine(p3, p4)\n",
    "l4 = gmsh.model.geo.addLine(p4, p1)\n",
    "\n",
    "cl1 = gmsh.model.geo.addCurveLoop([l1, l2, l3, l4])\n",
    "\n",
    "l5 = gmsh.model.geo.addLine(p5, p6)\n",
    "l6 = gmsh.model.geo.addLine(p6, p7)\n",
    "l7 = gmsh.model.geo.addLine(p7, p8)\n",
    "l8 = gmsh.model.geo.addLine(p8, p5)\n",
    "\n",
    "cl2 = gmsh.model.geo.addCurveLoop([l5, l6, l7, l8])\n",
    "\n",
    "\n",
    "\n",
    "\n",
    "surf1 = gmsh.model.geo.addPlaneSurface([cl1, cl2])\n",
    "\n",
    "# for i in [surf1, surf2, surf3, surf4, surf5]: #[surf1 ,surf2, surf5]:#\n",
    "#     gmsh.model.geo.mesh.setTransfiniteSurface(i)\n",
    "#     gmsh.model.geo.mesh.setRecombine(2, i)\n",
    "# gmsh.model.geo.mesh.setTransfiniteSurface(surf1)\n",
    "gmsh.option.setNumber(\"Mesh.CharacteristicLengthMin\", 0.5)\n",
    "gmsh.option.setNumber(\"Mesh.CharacteristicLengthMax\", 0.5)\n",
    "gmsh.model.addPhysicalGroup(2, [surf1], 1)\n",
    "# gmsh.model.addPhysicalGroup(2, [surf2], 2)\n",
    "# gmsh.model.addPhysicalGroup(2, [surf3], 3)\n",
    "# gmsh.model.addPhysicalGroup(2, [surf4], 4)\n",
    "# gmsh.model.addPhysicalGroup(2, [surf5], 5)\n",
    "\n",
    "gmsh.model.setPhysicalName(2, 1, \"left_clamp\")\n",
    "# gmsh.model.setPhysicalName(2, 2, \"beam_bottom\")\n",
    "# gmsh.model.setPhysicalName(2, 3, \"beam_middle\")\n",
    "# gmsh.model.setPhysicalName(2, 4, \"beam_top\")\n",
    "# gmsh.model.setPhysicalName(2, 5, \"right_clamp\")\n",
    "\n",
    "gmsh.model.geo.synchronize()\n",
    "\n",
    "gmsh.model.mesh.generate(2)\n",
    "# #\n",
    "# gmsh.fltk.run()\n",
    "\n",
    "# # 保存\n",
    "# gmsh.write(\"dumbbell_structured.msh\")\n",
    "\n",
    "gmsh_model_rank = 0\n",
    "mesh_comm = MPI.COMM_WORLD\n",
    "msh, cell_markers, facet_markers = gmshio.model_to_mesh(gmsh.model, mesh_comm, gmsh_model_rank, gdim=2)\n",
    "gmsh.finalize()\n",
    "dim = msh.topology.dim\n",
    "print(f\"Mesh: {msh.name} with {msh.topology.index_map(dim).size_local} element in {dim}D\")\n",
    "\n",
    "degree = 1\n",
    "shape = (dim,)"
   ]
  },
  {
   "cell_type": "code",
   "execution_count": 3,
   "id": "f7dd01ee",
   "metadata": {},
   "outputs": [],
   "source": [
    "# Define the finite element function space\n",
    "V = fem.functionspace(msh, (\"P\", degree, shape))\n",
    "u = fem.Function(V,name=\"Displacement\")\n",
    "T_s= fem.functionspace(msh, (\"CG\", 1)) # Define the scalar function space for the theta\n",
    "v = TestFunction(V)\n",
    "du = TrialFunction(V)\n",
    "dtheta = ufl.TrialFunction(T_s)\n"
   ]
  },
  {
   "cell_type": "code",
   "execution_count": 4,
   "id": "8e986277",
   "metadata": {},
   "outputs": [],
   "source": [
    "# Define the mechanical properties\n",
    "E = 1.0\n",
    "nu = 0.3\n",
    "G = fem.Constant(msh,E / (2.0 * (1.0 + nu)))\n",
    "K = fem.Constant(msh,E / (3.0 * (1.0 - 2.0 * nu)))\n",
    "mu0 = fem.Constant(msh,1.00e2)"
   ]
  },
  {
   "cell_type": "code",
   "execution_count": 5,
   "id": "ce078148",
   "metadata": {},
   "outputs": [],
   "source": [
    "# Define the design variable\n",
    "theta = fem.Function(T_s, name=\"theta\")\n",
    "B_0 = fem.Constant(msh, PETSc.ScalarType(1.0))\n",
    "B_tilde = B_0* as_vector([cos(theta), sin(theta)])\n"
   ]
  },
  {
   "cell_type": "code",
   "execution_count": 6,
   "id": "86242fbe",
   "metadata": {},
   "outputs": [],
   "source": [
    "# Define the load\n",
    "B_applied = fem.Constant(msh, np.array([0.0, -1.0e-3], dtype=np.float64))"
   ]
  },
  {
   "cell_type": "code",
   "execution_count": 7,
   "id": "f706e8f9",
   "metadata": {},
   "outputs": [],
   "source": [
    "# Define the constitutive model\n",
    "\n",
    "F = Identity(dim) + grad(u)\n",
    "J = det(F)\n",
    "\n",
    "# Compute the right Cauchy-Green deformation tensor\n",
    "C = F.T * F\n",
    "\n",
    "# Compute the strain energy density function\n",
    "I1 = tr(C)\n",
    "W_tilde = G/2*(J**(-2/3)*I1-2)+K/2*(J-1)**2#-1/mu0*inner(F*B_tilde,B_applied)\n",
    "\n",
    "P = G*J**(-2/3)*(F-I1/2*inv(F).T) + K*J*(J-1)*inv(F).T - 1/mu0*outer(B_applied,B_tilde)\n",
    "\n",
    "# Define the weak form\n",
    "Residual = inner(P, grad(v))*dx\n"
   ]
  },
  {
   "cell_type": "code",
   "execution_count": 8,
   "id": "88eb481a",
   "metadata": {},
   "outputs": [],
   "source": [
    "# Define the Jacobian\n",
    "Jacobian = derivative(Residual, u, du)\n",
    "dpdtheta = derivative(P, theta, dtheta)"
   ]
  },
  {
   "cell_type": "code",
   "execution_count": 9,
   "id": "85f1d78d",
   "metadata": {},
   "outputs": [],
   "source": [
    "# Define boundary conditions\n",
    "left = lambda x: np.isclose(x[0], 0.0)\n",
    "bc_1 = fem.dirichletbc(np.array([0.0, 0.0]), fem.locate_dofs_geometrical(V, left),V)\n",
    "right = lambda x: np.isclose(x[0], 25.0)\n",
    "bc_2 = fem.dirichletbc(np.array([-1.0, 0.0]), fem.locate_dofs_geometrical(V, right),V)"
   ]
  },
  {
   "cell_type": "code",
   "execution_count": 10,
   "id": "23f6ce7e",
   "metadata": {},
   "outputs": [],
   "source": [
    "# Define the solution function\n",
    "\n",
    "def solve_problem():\n",
    "    # Create the linear problem\n",
    "    problem = fem.petsc.NonlinearProblem(Residual, u, [bc_1,bc_2], Jacobian)\n",
    "    solver = nls.petsc.NewtonSolver(msh.comm, problem)\n",
    "    # Set Newton solver options\n",
    "    solver.atol = 1e-4\n",
    "    solver.rtol = 1e-4\n",
    "    solver.max_it = 10000\n",
    "    solver.convergence_criterion = \"incremental\"\n",
    "    solver.solve(u) \n",
    "    return u"
   ]
  },
  {
   "cell_type": "code",
   "execution_count": 11,
   "id": "e9b6b86a",
   "metadata": {},
   "outputs": [],
   "source": [
    "# Define Dirac \n",
    "x_target = np.array([5.0, 2.5], dtype=np.float64)\n",
    "cells = locate_entities(msh, dim, marker=lambda x: np.isclose(x[0], x_target[0]) & np.isclose(x[1], x_target[1]))\n",
    "cells_tag = meshtags(msh, dim, cells, np.full(len(cells), 1, dtype=np.int32))\n",
    "dx_sub = ufl.Measure(\"dx\", domain=msh, subdomain_data=cells_tag)"
   ]
  },
  {
   "cell_type": "code",
   "execution_count": 12,
   "id": "74433c70",
   "metadata": {},
   "outputs": [],
   "source": [
    "def opt(theta,u):\n",
    "    # Initialize the optimization loop\n",
    "    theta.x.array[:] = np.pi / 6  # Reset theta to initial guess\n",
    "    u.x.array[:] = 0.0  # Reset the displacement field\n",
    "    # Record the last step\n",
    "    u_last = u.copy()\n",
    "    # Solve the problem\n",
    "    u = solve_problem()\n",
    "\n",
    "    # Compute the objective function\n",
    "    print(u.x.array.shape)\n",
    "    phi = ufl.inner(u[0], fem.Constant(msh, PETSc.ScalarType(1))) * dx_sub(1)\n",
    "\n",
    "    dphi_dtheta = ufl.derivative(phi, theta, dtheta)\n",
    "    dR_dtheta = ufl.derivative(Residual, theta, dtheta)\n",
    "\n",
    "    # Define the adjoint problem\n",
    "    lambda_ = TrialFunction(V)\n",
    "    v_t = TestFunction(V)\n",
    "    dphi_du = derivative(derivative(phi, u, lambda_), u, v_t)\n",
    "    dR_du = -derivative(Residual, u, du)\n",
    "    A = fem.petsc.assemble_matrix(fem.form(dphi_du))\n",
    "    A.assemble()\n",
    "    b = fem.petsc.assemble_vector(fem.form(dR_du))\n",
    "\n",
    "    # Solve the adjoint problem\n",
    "    solver = PETSc.KSP().create(msh.comm)\n",
    "    solver.setOperators(A)\n",
    "    solver.setType(PETSc.KSP.Type.CG)\n",
    "    solver.getPC().setType(PETSc.PC.Type.HYPRE)  # AMG\n",
    "    lamda_sol = fem.Function(V)\n",
    "    # solver.solve(b, lamda_sol.x.petsc_vec)"
   ]
  },
  {
   "cell_type": "code",
   "execution_count": 13,
   "id": "924d479f",
   "metadata": {},
   "outputs": [
    {
     "ename": "",
     "evalue": "",
     "output_type": "error",
     "traceback": [
      "\u001b[1;31mThe Kernel crashed while executing code in the current cell or a previous cell. \n",
      "\u001b[1;31mPlease review the code in the cell(s) to identify a possible cause of the failure. \n",
      "\u001b[1;31mClick <a href='https://aka.ms/vscodeJupyterKernelCrash'>here</a> for more info. \n",
      "\u001b[1;31mView Jupyter <a href='command:jupyter.viewOutput'>log</a> for further details."
     ]
    }
   ],
   "source": [
    "opt(theta,u)"
   ]
  }
 ],
 "metadata": {
  "kernelspec": {
   "display_name": "fenicsx-env",
   "language": "python",
   "name": "python3"
  },
  "language_info": {
   "codemirror_mode": {
    "name": "ipython",
    "version": 3
   },
   "file_extension": ".py",
   "mimetype": "text/x-python",
   "name": "python",
   "nbconvert_exporter": "python",
   "pygments_lexer": "ipython3",
   "version": "3.13.3"
  }
 },
 "nbformat": 4,
 "nbformat_minor": 5
}
