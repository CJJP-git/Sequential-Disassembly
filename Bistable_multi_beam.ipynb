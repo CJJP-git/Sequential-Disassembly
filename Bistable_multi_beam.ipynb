{
 "cells": [
  {
   "cell_type": "code",
   "execution_count": 1,
   "metadata": {},
   "outputs": [],
   "source": [
    "import numpy as np\n",
    "import ufl\n",
    "\n",
    "from mpi4py import MPI\n",
    "from dolfinx.io import gmshio\n",
    "import gmsh\n",
    "from dolfinx import fem, io, nls\n",
    "from dolfinx import plot\n",
    "import dolfinx.fem.petsc\n",
    "import dolfinx.nls.petsc\n",
    "from dolfinx.mesh import create_box, CellType, create_rectangle, locate_entities\n",
    "import pyvista\n",
    "from ufl import (\n",
    "    as_matrix,\n",
    "    dx,\n",
    "    dot,\n",
    "    cos,\n",
    "    sin,\n",
    "    SpatialCoordinate,\n",
    "    Identity,\n",
    "    grad,\n",
    "    ln,\n",
    "    tr,\n",
    "    det,\n",
    "    variable,\n",
    "    derivative,\n",
    "    TestFunction,\n",
    "    TrialFunction,\n",
    "    inner,\n",
    "    cross,\n",
    "    inv,\n",
    "    outer\n",
    ")"
   ]
  },
  {
   "cell_type": "code",
   "execution_count": 2,
   "metadata": {},
   "outputs": [],
   "source": [
    "pyvista.set_jupyter_backend('trame')"
   ]
  },
  {
   "cell_type": "code",
   "execution_count": 3,
   "metadata": {},
   "outputs": [
    {
     "name": "stdout",
     "output_type": "stream",
     "text": [
      "Info    : Meshing 1D...\n",
      "Info    : [  0%] Meshing curve 1 (Line)\n",
      "Info    : [ 20%] Meshing curve 2 (Line)\n",
      "Info    : [ 30%] Meshing curve 3 (Line)\n",
      "Info    : [ 40%] Meshing curve 4 (Line)\n",
      "Info    : [ 60%] Meshing curve 5 (Line)\n",
      "Info    : [ 70%] Meshing curve 6 (Line)\n",
      "Info    : [ 80%] Meshing curve 7 (Line)\n",
      "Info    : [ 90%] Meshing curve 8 (Line)\n",
      "Info    : Done meshing 1D (Wall 0.000349958s, CPU 0.000366s)\n",
      "Info    : Meshing 2D...\n",
      "Info    : Meshing surface 1 (Plane, Frontal-Delaunay)\n",
      "Info    : Done meshing 2D (Wall 0.008778s, CPU 0.008425s)\n",
      "Info    : 769 nodes 1546 elements\n"
     ]
    },
    {
     "name": "stderr",
     "output_type": "stream",
     "text": [
      "Warning : Unknown entity of dimension 2 and tag 1 in physical group 1\n"
     ]
    }
   ],
   "source": [
    "gmsh.initialize()\n",
    "gmsh.model.add(\"beams\")\n",
    "\n",
    "p1 = gmsh.model.geo.addPoint(0, 0, 0)\n",
    "p2 = gmsh.model.geo.addPoint(30, 0, 0)\n",
    "p3 = gmsh.model.geo.addPoint(30, 5, 0)\n",
    "p4 = gmsh.model.geo.addPoint(0, 5, 0)\n",
    "\n",
    "p5 = gmsh.model.geo.addPoint(5, 2, 0)\n",
    "p6 = gmsh.model.geo.addPoint(5, 3, 0)\n",
    "p7 = gmsh.model.geo.addPoint(25, 3, 0)\n",
    "p8 = gmsh.model.geo.addPoint(25, 2, 0)\n",
    "\n",
    "\n",
    "\n",
    "l1 = gmsh.model.geo.addLine(p1, p2)\n",
    "l2 = gmsh.model.geo.addLine(p2, p3)\n",
    "l3 = gmsh.model.geo.addLine(p3, p4)\n",
    "l4 = gmsh.model.geo.addLine(p4, p1)\n",
    "\n",
    "cl1 = gmsh.model.geo.addCurveLoop([l1, l2, l3, l4])\n",
    "\n",
    "l5 = gmsh.model.geo.addLine(p5, p6)\n",
    "l6 = gmsh.model.geo.addLine(p6, p7)\n",
    "l7 = gmsh.model.geo.addLine(p7, p8)\n",
    "l8 = gmsh.model.geo.addLine(p8, p5)\n",
    "\n",
    "cl2 = gmsh.model.geo.addCurveLoop([l5, l6, l7, l8])\n",
    "\n",
    "\n",
    "\n",
    "\n",
    "surf1 = gmsh.model.geo.addPlaneSurface([cl1, cl2])\n",
    "\n",
    "# for i in [surf1, surf2, surf3, surf4, surf5]: #[surf1 ,surf2, surf5]:#\n",
    "#     gmsh.model.geo.mesh.setTransfiniteSurface(i)\n",
    "#     gmsh.model.geo.mesh.setRecombine(2, i)\n",
    "# gmsh.model.geo.mesh.setTransfiniteSurface(surf1)\n",
    "gmsh.option.setNumber(\"Mesh.CharacteristicLengthMin\", 0.5)\n",
    "gmsh.option.setNumber(\"Mesh.CharacteristicLengthMax\", 0.5)\n",
    "gmsh.model.addPhysicalGroup(2, [surf1], 1)\n",
    "# gmsh.model.addPhysicalGroup(2, [surf2], 2)\n",
    "# gmsh.model.addPhysicalGroup(2, [surf3], 3)\n",
    "# gmsh.model.addPhysicalGroup(2, [surf4], 4)\n",
    "# gmsh.model.addPhysicalGroup(2, [surf5], 5)\n",
    "\n",
    "gmsh.model.setPhysicalName(2, 1, \"left_clamp\")\n",
    "# gmsh.model.setPhysicalName(2, 2, \"beam_bottom\")\n",
    "# gmsh.model.setPhysicalName(2, 3, \"beam_middle\")\n",
    "# gmsh.model.setPhysicalName(2, 4, \"beam_top\")\n",
    "# gmsh.model.setPhysicalName(2, 5, \"right_clamp\")\n",
    "\n",
    "gmsh.model.geo.synchronize()\n",
    "\n",
    "# 生成网格\n",
    "gmsh.model.mesh.generate(2)\n",
    "# #\n",
    "# gmsh.fltk.run()\n",
    "\n",
    "# # 保存\n",
    "# gmsh.write(\"dumbbell_structured.msh\")\n",
    "\n",
    "# gmsh.finalize()"
   ]
  },
  {
   "cell_type": "code",
   "execution_count": 4,
   "metadata": {},
   "outputs": [],
   "source": [
    "gmsh_model_rank = 0\n",
    "mesh_comm = MPI.COMM_WORLD\n",
    "msh, cell_markers, facet_markers = gmshio.model_to_mesh(gmsh.model, mesh_comm, gmsh_model_rank, gdim=2)\n",
    "gmsh.finalize()"
   ]
  },
  {
   "cell_type": "code",
   "execution_count": 5,
   "metadata": {},
   "outputs": [
    {
     "name": "stdout",
     "output_type": "stream",
     "text": [
      "Mesh: mesh with 1314 element in 2D\n"
     ]
    }
   ],
   "source": [
    "# msh = create_rectangle(MPI.COMM_WORLD, [np.array([0, 0]), np.array([10, 2])], [100, 20], CellType.quadrilateral)\n",
    "\n",
    "dim = msh.topology.dim\n",
    "print(f\"Mesh: {msh.name} with {msh.topology.index_map(dim).size_local} element in {dim}D\")\n",
    "\n",
    "degree = 1\n",
    "shape = (dim,)"
   ]
  },
  {
   "cell_type": "code",
   "execution_count": 6,
   "metadata": {},
   "outputs": [],
   "source": [
    "V = fem.functionspace(msh, (\"P\", degree, shape))\n",
    "u = fem.Function(V,name=\"Displacement\")\n",
    "Q = fem.functionspace(msh, (\"Lagrange\", 1, (msh.geometry.dim,)))\n",
    "v = TestFunction(V)\n",
    "du = TrialFunction(V)"
   ]
  },
  {
   "cell_type": "code",
   "execution_count": 7,
   "metadata": {},
   "outputs": [],
   "source": [
    "def plot_msh(msh):\n",
    "    p = pyvista.Plotter()\n",
    "    topology, cell_types, geometry = plot.vtk_mesh(V)\n",
    "    grid = pyvista.UnstructuredGrid(topology, cell_types, geometry)\n",
    "    p.add_mesh(grid, show_edges=True)\n",
    "    p.show_bounds()\n",
    "    p.show()"
   ]
  },
  {
   "cell_type": "code",
   "execution_count": 8,
   "metadata": {},
   "outputs": [
    {
     "data": {
      "application/vnd.jupyter.widget-view+json": {
       "model_id": "5a7e28b74d4741028724cb11e0760ec2",
       "version_major": 2,
       "version_minor": 0
      },
      "text/plain": [
       "Widget(value='<iframe src=\"http://localhost:63616/index.html?ui=P_0x32d929e80_0&reconnect=auto\" class=\"pyvista…"
      ]
     },
     "metadata": {},
     "output_type": "display_data"
    }
   ],
   "source": [
    "plot_msh(msh)"
   ]
  },
  {
   "cell_type": "code",
   "execution_count": 9,
   "metadata": {},
   "outputs": [],
   "source": [
    "# Define the mechanical properties\n",
    "E = 1.0\n",
    "nu = 0.3\n",
    "G = fem.Constant(msh,E / (2.0 * (1.0 + nu)))\n",
    "K = fem.Constant(msh,E / (3.0 * (1.0 - 2.0 * nu)))\n",
    "mu0 = fem.Constant(msh,1.00e2)"
   ]
  },
  {
   "cell_type": "code",
   "execution_count": 10,
   "metadata": {},
   "outputs": [],
   "source": [
    "u.x.array[:] = 0.0\n",
    "u_prev = u.x.array.copy()"
   ]
  },
  {
   "cell_type": "code",
   "execution_count": 11,
   "metadata": {},
   "outputs": [],
   "source": [
    "vtk = io.VTKFile(msh.comm, \"Results/linear_elasticity.pvd\", \"w\")"
   ]
  },
  {
   "cell_type": "code",
   "execution_count": 12,
   "metadata": {},
   "outputs": [],
   "source": [
    "from numpy import log10"
   ]
  },
  {
   "cell_type": "code",
   "execution_count": 13,
   "metadata": {},
   "outputs": [],
   "source": [
    "def vector_field_release(x):\n",
    "    # For region 1: set vector to (1.0, -2.0)\n",
    "    region1_mask = (x[0] <= 15) & (x[0] >= 5.0) & (x[1]<=2.0)\n",
    "    \n",
    "    # For region 2: set vector to (2.0, -1.0)\n",
    "    region2_mask =(x[0] >= 15) & (x[0] <= 25.0)& (x[1]<=2.0)\n",
    "\n",
    "    region3_mask = (x[0] <= 15) & (x[0] >= 5.0) & (x[1]>=3.0)\n",
    "\n",
    "    region4_mask = (x[0] >= 15) & (x[0] <= 25.0) & (x[1]>=3.0)\n",
    "\n",
    "    # Initialize with zeros\n",
    "    field = np.zeros((2, x.shape[1]))\n",
    "    \n",
    "\n",
    "    field[0, region1_mask] = 1.0  # x-component in region 1\n",
    "    field[1, region1_mask] = 0.0 # y-component in region 1\n",
    "\n",
    "    field[0, region2_mask] = -1.0  # x-component in region 2\n",
    "    field[1, region2_mask] = 0.0  # y-component in region 2\n",
    "\n",
    "    field[0, region3_mask] = -1.0  # x-component in region 2\n",
    "    field[1, region3_mask] = 0.0\n",
    "\n",
    "    field[0, region4_mask] = 1.0  # x-component in region 2\n",
    "    field[1, region4_mask] = 0.0\n",
    "    return field"
   ]
  },
  {
   "cell_type": "code",
   "execution_count": 14,
   "metadata": {},
   "outputs": [],
   "source": [
    "# Initial state\n",
    "B_applied = fem.Constant(msh, np.array([0.0, -1.0]))\n",
    "\n",
    "\n",
    "L_0 = 10\n",
    "def midpoint(x):\n",
    "    return np.isclose(x[0], L_0/2, atol=5)\n",
    "\n",
    "left = lambda x: np.isclose(x[0], 0.0)\n",
    "bc_1 = fem.dirichletbc(np.array([0.0, 0.0]), fem.locate_dofs_geometrical(V, left),V)\n",
    "right = lambda x: np.isclose(x[0], 25.0)\n",
    "bc_2 = fem.dirichletbc(np.array([-1.0, 0.0]), fem.locate_dofs_geometrical(V, right),V)\n",
    "# print(f\"Applied B: {B_sequence[i]}\")\n",
    "\n",
    "F = Identity(dim) + grad(u)\n",
    "J = det(F)\n",
    "# B_tilde = fem.Constant(msh, np.array([1.0, 0.0]))\n",
    "def vector_field(x):\n",
    "    # For region 1: set vector to (1.0, -2.0)\n",
    "    region1_mask = (x[0] <= 15) & (x[0] >= 5.0)\n",
    "    \n",
    "    # For region 2: set vector to (2.0, -1.0)\n",
    "    region2_mask = (x[0] >= 15) & (x[0] <= 25.0)\n",
    "\n",
    "    # Initialize with zeros\n",
    "    field = np.zeros((2, x.shape[1]))\n",
    "\n",
    "    field[0, region1_mask] = 1.0  # x-component in region 1\n",
    "    field[1, region1_mask] = 0.0 # y-component in region 1\n",
    "\n",
    "    field[0, region2_mask] = -1.0  # x-component in region 2\n",
    "    field[1, region2_mask] = 0.0  # y-component in region 2\n",
    "    \n",
    "    return field\n",
    "u.x.array[:] = u_prev\n",
    "cells = locate_entities(msh, dim, midpoint)\n",
    "u.x.array[cells] = 1e-8\n",
    "B_tilde = fem.Function(Q, name=\"B_tilde\")\n",
    "\n",
    "B_tilde.interpolate(vector_field)\n",
    "\n",
    "I1 = tr(F*F.T)\n",
    "W_tilde = G/2*(J**(-2/3)*I1-2)+K/2*(J-1)**2#-1/mu0*inner(F*B_tilde,B_applied)\n",
    "\n",
    "P = G*J**(-2/3)*(F-I1/2*inv(F).T) + K*J*(J-1)*inv(F).T - 1/mu0*outer(B_applied,B_tilde)\n",
    "sigma = 1/J*P*F.T\n",
    "w_elastic = sigma*F.T\n",
    "# sigma = 1/J*P*F.T\n",
    "\n",
    "\n",
    "# print(f\"Applied B: {B_sequence[i]}\")\n",
    "Residual = inner(P, grad(v))*dx\n",
    "Jacobian = derivative(Residual, u, du)\n",
    "problem = fem.petsc.NonlinearProblem(Residual, u, [bc_1,bc_2], Jacobian)\n",
    "\n",
    "solver = nls.petsc.NewtonSolver(msh.comm, problem)\n",
    "# Set Newton solver options\n",
    "solver.atol = 1e-4\n",
    "solver.rtol = 1e-4\n",
    "solver.max_it = 10000\n",
    "solver.convergence_criterion = \"incremental\"\n",
    "solver.solve(u) \n",
    "u_prev = u.x.array.copy()\n",
    "\n",
    "B_tilde.interpolate(vector_field_release)\n",
    "vtk.write_function([u,B_tilde], 1)"
   ]
  },
  {
   "cell_type": "code",
   "execution_count": 15,
   "metadata": {},
   "outputs": [],
   "source": [
    "\n",
    "###################### The First Load ######################\n",
    "\n",
    "B_applied = fem.Constant(msh, np.array([0.0, -2.0]))\n",
    "F = Identity(dim) + grad(u)\n",
    "J = det(F)\n",
    "# B_tilde = fem.Constant(msh, np.array([1.0, 0.0]))\n",
    "def vector_field(x):\n",
    "    # For region 1: set vector to (1.0, -2.0)\n",
    "    region1_mask = (x[0] <= 15) & (x[0] >= 5.0) & (x[1]<=2.0)\n",
    "    \n",
    "    # For region 2: set vector to (2.0, -1.0)\n",
    "    region2_mask =(x[0] >= 15) & (x[0] <= 25.0)& (x[1]<=2.0)\n",
    "\n",
    "    region3_mask = (x[0] <= 15) & (x[0] >= 5.0) & (x[1]>=3.0)\n",
    "\n",
    "    region4_mask = (x[0] >= 15) & (x[0] <= 25.0) & (x[1]>=3.0)\n",
    "\n",
    "    # Initialize with zeros\n",
    "    field = np.zeros((2, x.shape[1]))\n",
    "    \n",
    "\n",
    "    field[0, region1_mask] = 1.0  # x-component in region 1\n",
    "    field[1, region1_mask] = 0.0 # y-component in region 1\n",
    "\n",
    "    field[0, region2_mask] = -1.0  # x-component in region 2\n",
    "    field[1, region2_mask] = 0.0  # y-component in region 2\n",
    "\n",
    "    field[0, region3_mask] = -0.1  # x-component in region 2\n",
    "    field[1, region3_mask] = 0.0\n",
    "\n",
    "    field[0, region4_mask] = 0.1  # x-component in region 2\n",
    "    field[1, region4_mask] = 0.0\n",
    "    \n",
    "    return field\n",
    "u.x.array[:] = u_prev\n",
    "\n",
    "B_tilde = fem.Function(Q, name=\"B_tilde\")\n",
    "\n",
    "B_tilde.interpolate(vector_field)\n",
    "\n",
    "I1 = tr(F*F.T)\n",
    "W_tilde = G/2*(J**(-2/3)*I1-2)+K/2*(J-1)**2#-1/mu0*inner(F*B_tilde,B_applied)\n",
    "P = G*J**(-2/3)*(F-I1/2*inv(F).T) + K*J*(J-1)*inv(F).T - 1/mu0*outer(B_applied,B_tilde)\n",
    "sigma = 1/J*P*F.T\n",
    "w_elastic = sigma*F.T\n",
    "# sigma = 1/J*P*F.T\n",
    "\n",
    "\n",
    "# print(f\"Applied B: {B_sequence[i]}\")\n",
    "Residual = inner(P, grad(v))*dx\n",
    "Jacobian = derivative(Residual, u, du)\n",
    "problem = fem.petsc.NonlinearProblem(Residual, u, [bc_1,bc_2], Jacobian)\n",
    "\n",
    "solver = nls.petsc.NewtonSolver(msh.comm, problem)\n",
    "# Set Newton solver options\n",
    "solver.atol = 1e-4\n",
    "solver.rtol = 1e-4\n",
    "solver.max_it = 10000\n",
    "solver.convergence_criterion = \"incremental\"\n",
    "solver.solve(u)\n",
    "# w_mode_0[i] = fem.assemble_scalar(fem.form(W_tilde*dx))\n",
    "u_prev = u.x.array.copy()\n",
    "B_tilde.interpolate(vector_field_release)\n",
    "vtk.write_function([u,B_tilde], 2)\n",
    "    \n",
    "    # print(f\"Applied B: {B_sequence[i]}, Energy: {w[i]}\")"
   ]
  },
  {
   "cell_type": "code",
   "execution_count": 16,
   "metadata": {},
   "outputs": [],
   "source": [
    "###################### The Second Load ######################\n",
    "\n",
    "B_applied = fem.Constant(msh, np.array([0.0, 0.2]))\n",
    "F = Identity(dim) + grad(u)\n",
    "J = det(F)\n",
    "# B_tilde = fem.Constant(msh, np.array([1.0, 0.0]))\n",
    "def vector_field(x):\n",
    "    # For region 1: set vector to (1.0, -2.0)\n",
    "    region1_mask = (x[0] <= 15) & (x[0] >= 5.0) & (x[1]<=2.0)\n",
    "    \n",
    "    # For region 2: set vector to (2.0, -1.0)\n",
    "    region2_mask =(x[0] >= 15) & (x[0] <= 25.0)& (x[1]<=2.0)\n",
    "\n",
    "    region3_mask = (x[0] <= 15) & (x[0] >= 5.0) & (x[1]>=3.0)\n",
    "\n",
    "    region4_mask = (x[0] >= 15) & (x[0] <= 25.0) & (x[1]>=3.0)\n",
    "\n",
    "    # Initialize with zeros\n",
    "    field = np.zeros((2, x.shape[1]))\n",
    "    \n",
    "\n",
    "    field[0, region1_mask] = 1.0  # x-component in region 1\n",
    "    field[1, region1_mask] = 0.0 # y-component in region 1\n",
    "\n",
    "    field[0, region2_mask] = -1.0  # x-component in region 2\n",
    "    field[1, region2_mask] = 0.0  # y-component in region 2\n",
    "\n",
    "    field[0, region3_mask] = -0.1  # x-component in region 2\n",
    "    field[1, region3_mask] = 0.0\n",
    "\n",
    "    field[0, region4_mask] = 0.1  # x-component in region 2\n",
    "    field[1, region4_mask] = 0.0\n",
    "    \n",
    "    return field\n",
    "u.x.array[:] = u_prev\n",
    "\n",
    "B_tilde = fem.Function(Q, name=\"B_tilde\")\n",
    "\n",
    "B_tilde.interpolate(vector_field)\n",
    "\n",
    "I1 = tr(F*F.T)\n",
    "W_tilde = G/2*(J**(-2/3)*I1-2)+K/2*(J-1)**2#-1/mu0*inner(F*B_tilde,B_applied)\n",
    "P = G*J**(-2/3)*(F-I1/2*inv(F).T) + K*J*(J-1)*inv(F).T - 1/mu0*outer(B_applied,B_tilde)\n",
    "sigma = 1/J*P*F.T\n",
    "w_elastic = sigma*F.T\n",
    "# sigma = 1/J*P*F.T\n",
    "\n",
    "\n",
    "# print(f\"Applied B: {B_sequence[i]}\")\n",
    "Residual = inner(P, grad(v))*dx\n",
    "Jacobian = derivative(Residual, u, du)\n",
    "problem = fem.petsc.NonlinearProblem(Residual, u, [bc_1,bc_2], Jacobian)\n",
    "\n",
    "solver = nls.petsc.NewtonSolver(msh.comm, problem)\n",
    "# Set Newton solver options\n",
    "solver.atol = 1e-4\n",
    "solver.rtol = 1e-4\n",
    "solver.max_it = 10000\n",
    "solver.convergence_criterion = \"incremental\"\n",
    "solver.solve(u)\n",
    "# w_mode_0[i] = fem.assemble_scalar(fem.form(W_tilde*dx))\n",
    "u_prev = u.x.array.copy()\n",
    "B_tilde.interpolate(vector_field_release)\n",
    "vtk.write_function([u,B_tilde], 3)"
   ]
  },
  {
   "cell_type": "code",
   "execution_count": 17,
   "metadata": {},
   "outputs": [],
   "source": [
    "# vtk.write_function(B_tilde,0)"
   ]
  },
  {
   "cell_type": "code",
   "execution_count": 18,
   "metadata": {},
   "outputs": [],
   "source": [
    "vtk.close()"
   ]
  },
  {
   "cell_type": "code",
   "execution_count": 19,
   "metadata": {},
   "outputs": [],
   "source": [
    "# import matplotlib.pyplot as plt\n",
    "# y = np.concatenate([np.flip(w_mode_0),w_mode_1])\n",
    "# x = np.concatenate([np.flip(B_sequence_0[:,1]),B_sequence_1[:,1]])\n",
    "# plt.figure()\n",
    "# plt.xlabel(\"B\")\n",
    "# plt.ylabel(\"W\")\n",
    "# plt.title(\"B vs W\")\n",
    "# plt.plot(x,y,marker='o', linestyle='-', color='black', markersize=2)\n"
   ]
  },
  {
   "cell_type": "code",
   "execution_count": 20,
   "metadata": {},
   "outputs": [
    {
     "data": {
      "image/png": "[encoded data removed]",
      "text/plain": [
       "<Figure size 640x480 with 1 Axes>"
      ]
     },
     "metadata": {},
     "output_type": "display_data"
    }
   ],
   "source": [
    "X = np.array([1,2,2,3])\n",
    "B = np.array([2,2,-0.3,-0.3])\n",
    "import matplotlib.pyplot as plt\n",
    "fig, ax = plt.subplots()\n",
    "plt.xlabel(\"t\")\n",
    "plt.ylabel(\"B\")\n",
    "ax.plot(X,B,linestyle='-', color='black')\n",
    "# Hide the top and right spines\n",
    "ax.spines['top'].set_visible(False)\n",
    "ax.spines['right'].set_visible(False)\n",
    "ax.spines['bottom'].set_visible(False)\n",
    "# Optional: set y-axis at x=0\n",
    "\n",
    "ax.set_xticks([])\n",
    "ax.annotate(\n",
    "    '', xy=(3.05, 0), xytext=(1, 0),\n",
    "    arrowprops=dict(arrowstyle='->', color='black')\n",
    ")\n",
    "ax.xaxis.set_label_coords(0.95, 0.3)\n",
    "plt.xlim(1, 3.2)\n",
    "plt.ylim(-1, 3)\n",
    "plt.savefig(\"B_vs_t.pdf\", dpi=900, bbox_inches='tight')"
   ]
  },
  {
   "cell_type": "code",
   "execution_count": null,
   "metadata": {},
   "outputs": [],
   "source": []
  }
 ],
 "metadata": {
  "kernelspec": {
   "display_name": "fenicsx-env",
   "language": "python",
   "name": "python3"
  },
  "language_info": {
   "codemirror_mode": {
    "name": "ipython",
    "version": 3
   },
   "file_extension": ".py",
   "mimetype": "text/x-python",
   "name": "python",
   "nbconvert_exporter": "python",
   "pygments_lexer": "ipython3",
   "version": "3.13.3"
  }
 },
 "nbformat": 4,
 "nbformat_minor": 2
}
